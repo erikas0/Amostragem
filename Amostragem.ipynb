{
  "nbformat": 4,
  "nbformat_minor": 0,
  "metadata": {
    "colab": {
      "name": "Amostragem.ipynb",
      "provenance": []
    },
    "kernelspec": {
      "name": "python3",
      "display_name": "Python 3"
    },
    "language_info": {
      "name": "python"
    }
  },
  "cells": [
    {
      "cell_type": "markdown",
      "metadata": {
        "id": "1Zwz_CQsV20T"
      },
      "source": [
        "# Carregar a base de dados"
      ]
    },
    {
      "cell_type": "code",
      "metadata": {
        "id": "dBy05PyIVtKA"
      },
      "source": [
        "import pandas as pd\n",
        "import random \n",
        "import numpy as np "
      ],
      "execution_count": 1,
      "outputs": []
    },
    {
      "cell_type": "markdown",
      "metadata": {
        "id": "uAYlSIOJV7oO"
      },
      "source": [
        "O coronavírus (COVID-19) é uma doençaa infecciosa causada por um coronavírus\n",
        "recém descoberta. A maioria das pessoas que adoece por causa da COVID-19 apresenta\n",
        "sintomas leves a moderados e se recupera sem tratamento especial. \n",
        "\n",
        "Contudo, o coronavírus é uma doença com uma taxa de transmissão muito alta,\n",
        "portanto gera um grande risco para a sociedade. Para combater a COVID-19 foi necessária\n",
        "uma série de medidas pelo governo e pela sociedade: distanciamento social, aumento de\n",
        "Unidades de Terapias Intensivas (UTIs), uso de máscara, fechamento de estabelecimentos,\n",
        "toque de recolher nas cidades, lockdown.\n",
        "\n",
        "O Governo do Distrito Federal, diariamente, em seu site, disponibiliza uma base de\n",
        "dados sobre os infectados pela COVID-19\n"
      ]
    },
    {
      "cell_type": "code",
      "metadata": {
        "id": "pZ98Ta7KV8Aq"
      },
      "source": [
        "df = pd.read_csv('dados-abertos.csv',delimiter=';')"
      ],
      "execution_count": 76,
      "outputs": []
    },
    {
      "cell_type": "code",
      "metadata": {
        "colab": {
          "base_uri": "https://localhost:8080/",
          "height": 576
        },
        "id": "ZFs5F0MEWKGs",
        "outputId": "72adb398-036e-4c63-950c-f0992f4063a3"
      },
      "source": [
        "df.dropna(subset=['Faixa Etária'],inplace=True)\n",
        "df.head().T"
      ],
      "execution_count": 63,
      "outputs": [
        {
          "output_type": "execute_result",
          "data": {
            "text/html": [
              "<div>\n",
              "<style scoped>\n",
              "    .dataframe tbody tr th:only-of-type {\n",
              "        vertical-align: middle;\n",
              "    }\n",
              "\n",
              "    .dataframe tbody tr th {\n",
              "        vertical-align: top;\n",
              "    }\n",
              "\n",
              "    .dataframe thead th {\n",
              "        text-align: right;\n",
              "    }\n",
              "</style>\n",
              "<table border=\"1\" class=\"dataframe\">\n",
              "  <thead>\n",
              "    <tr style=\"text-align: right;\">\n",
              "      <th></th>\n",
              "      <th>0</th>\n",
              "      <th>1</th>\n",
              "      <th>2</th>\n",
              "      <th>3</th>\n",
              "      <th>4</th>\n",
              "    </tr>\n",
              "  </thead>\n",
              "  <tbody>\n",
              "    <tr>\n",
              "      <th>Data</th>\n",
              "      <td>30/06/2021</td>\n",
              "      <td>30/06/2021</td>\n",
              "      <td>30/06/2021</td>\n",
              "      <td>30/06/2021</td>\n",
              "      <td>30/06/2021</td>\n",
              "    </tr>\n",
              "    <tr>\n",
              "      <th>Data Cadastro</th>\n",
              "      <td>2020-03-18</td>\n",
              "      <td>2020-03-18</td>\n",
              "      <td>2020-03-18</td>\n",
              "      <td>2020-03-18</td>\n",
              "      <td>2020-03-18</td>\n",
              "    </tr>\n",
              "    <tr>\n",
              "      <th>Sexo</th>\n",
              "      <td>Masculino</td>\n",
              "      <td>Masculino</td>\n",
              "      <td>Masculino</td>\n",
              "      <td>Masculino</td>\n",
              "      <td>Feminino</td>\n",
              "    </tr>\n",
              "    <tr>\n",
              "      <th>Faixa Etária</th>\n",
              "      <td>50 a 59 anos</td>\n",
              "      <td>50 a 59 anos</td>\n",
              "      <td>40 a 49 anos</td>\n",
              "      <td>&gt;= 60 anos</td>\n",
              "      <td>20 a 29 anos</td>\n",
              "    </tr>\n",
              "    <tr>\n",
              "      <th>RA</th>\n",
              "      <td>Plano Piloto</td>\n",
              "      <td>Plano Piloto</td>\n",
              "      <td>Lago Sul</td>\n",
              "      <td>Águas Claras</td>\n",
              "      <td>Plano Piloto</td>\n",
              "    </tr>\n",
              "    <tr>\n",
              "      <th>UF</th>\n",
              "      <td>DISTRITO FEDERAL</td>\n",
              "      <td>DISTRITO FEDERAL</td>\n",
              "      <td>DISTRITO FEDERAL</td>\n",
              "      <td>DISTRITO FEDERAL</td>\n",
              "      <td>DISTRITO FEDERAL</td>\n",
              "    </tr>\n",
              "    <tr>\n",
              "      <th>Óbito</th>\n",
              "      <td>Não</td>\n",
              "      <td>Não</td>\n",
              "      <td>Não</td>\n",
              "      <td>Não</td>\n",
              "      <td>Não</td>\n",
              "    </tr>\n",
              "    <tr>\n",
              "      <th>dataPrimeirosintomas</th>\n",
              "      <td>23/04/2020</td>\n",
              "      <td>03/08/2020</td>\n",
              "      <td>09/03/2020</td>\n",
              "      <td>14/03/2020</td>\n",
              "      <td>14/03/2020</td>\n",
              "    </tr>\n",
              "    <tr>\n",
              "      <th>Idade</th>\n",
              "      <td>54</td>\n",
              "      <td>51</td>\n",
              "      <td>46</td>\n",
              "      <td>63</td>\n",
              "      <td>29</td>\n",
              "    </tr>\n",
              "    <tr>\n",
              "      <th>Pneumopatia</th>\n",
              "      <td>NaN</td>\n",
              "      <td>NaN</td>\n",
              "      <td>NaN</td>\n",
              "      <td>NaN</td>\n",
              "      <td>NaN</td>\n",
              "    </tr>\n",
              "    <tr>\n",
              "      <th>Nefropatia</th>\n",
              "      <td>NaN</td>\n",
              "      <td>NaN</td>\n",
              "      <td>NaN</td>\n",
              "      <td>NaN</td>\n",
              "      <td>NaN</td>\n",
              "    </tr>\n",
              "    <tr>\n",
              "      <th>Doença Hematológica</th>\n",
              "      <td>NaN</td>\n",
              "      <td>NaN</td>\n",
              "      <td>NaN</td>\n",
              "      <td>NaN</td>\n",
              "      <td>NaN</td>\n",
              "    </tr>\n",
              "    <tr>\n",
              "      <th>Distúrbios Metabólicos</th>\n",
              "      <td>NaN</td>\n",
              "      <td>NaN</td>\n",
              "      <td>NaN</td>\n",
              "      <td>Sim</td>\n",
              "      <td>NaN</td>\n",
              "    </tr>\n",
              "    <tr>\n",
              "      <th>Imunopressão</th>\n",
              "      <td>NaN</td>\n",
              "      <td>NaN</td>\n",
              "      <td>NaN</td>\n",
              "      <td>NaN</td>\n",
              "      <td>NaN</td>\n",
              "    </tr>\n",
              "    <tr>\n",
              "      <th>Obesidade</th>\n",
              "      <td>NaN</td>\n",
              "      <td>NaN</td>\n",
              "      <td>NaN</td>\n",
              "      <td>NaN</td>\n",
              "      <td>NaN</td>\n",
              "    </tr>\n",
              "    <tr>\n",
              "      <th>Outros</th>\n",
              "      <td>NaN</td>\n",
              "      <td>NaN</td>\n",
              "      <td>NaN</td>\n",
              "      <td>NaN</td>\n",
              "      <td>NaN</td>\n",
              "    </tr>\n",
              "    <tr>\n",
              "      <th>Cardiovasculopatia</th>\n",
              "      <td>NaN</td>\n",
              "      <td>NaN</td>\n",
              "      <td>NaN</td>\n",
              "      <td>Sim</td>\n",
              "      <td>NaN</td>\n",
              "    </tr>\n",
              "  </tbody>\n",
              "</table>\n",
              "</div>"
            ],
            "text/plain": [
              "                                       0  ...                 4\n",
              "Data                          30/06/2021  ...        30/06/2021\n",
              "Data Cadastro                 2020-03-18  ...        2020-03-18\n",
              "Sexo                           Masculino  ...          Feminino\n",
              "Faixa Etária                50 a 59 anos  ...      20 a 29 anos\n",
              "RA                          Plano Piloto  ...      Plano Piloto\n",
              "UF                      DISTRITO FEDERAL  ...  DISTRITO FEDERAL\n",
              "Óbito                                Não  ...               Não\n",
              "dataPrimeirosintomas          23/04/2020  ...        14/03/2020\n",
              "Idade                                 54  ...                29\n",
              "Pneumopatia                          NaN  ...               NaN\n",
              "Nefropatia                           NaN  ...               NaN\n",
              "Doença Hematológica                  NaN  ...               NaN\n",
              "Distúrbios Metabólicos               NaN  ...               NaN\n",
              "Imunopressão                         NaN  ...               NaN\n",
              "Obesidade                            NaN  ...               NaN\n",
              "Outros                               NaN  ...               NaN\n",
              "Cardiovasculopatia                   NaN  ...               NaN\n",
              "\n",
              "[17 rows x 5 columns]"
            ]
          },
          "metadata": {
            "tags": []
          },
          "execution_count": 63
        }
      ]
    },
    {
      "cell_type": "code",
      "metadata": {
        "colab": {
          "base_uri": "https://localhost:8080/"
        },
        "id": "J-NjeOibWIQT",
        "outputId": "16fc89b8-02bc-4b4f-e466-c5bd107900ae"
      },
      "source": [
        "df.shape"
      ],
      "execution_count": 80,
      "outputs": [
        {
          "output_type": "execute_result",
          "data": {
            "text/plain": [
              "(430461, 17)"
            ]
          },
          "metadata": {
            "tags": []
          },
          "execution_count": 80
        }
      ]
    },
    {
      "cell_type": "markdown",
      "metadata": {
        "id": "Tb_v2-nIX6y6"
      },
      "source": [
        "# Tamanho da amostra"
      ]
    },
    {
      "cell_type": "code",
      "metadata": {
        "colab": {
          "base_uri": "https://localhost:8080/"
        },
        "id": "5-GG-i4HX9rY",
        "outputId": "84123b76-c9e8-4d79-f5ad-b0817befc2a6"
      },
      "source": [
        "def tamanho_amostra(e,N):\n",
        "  n = (N / (1 + (N*(e**2))))\n",
        "  return (int(n))\n",
        "\n",
        "e_ = 0.05\n",
        "N_ = 430461\n",
        "\n",
        "print(tamanho_amostra(e_, N_))"
      ],
      "execution_count": 86,
      "outputs": [
        {
          "output_type": "stream",
          "text": [
            "399\n"
          ],
          "name": "stdout"
        }
      ]
    },
    {
      "cell_type": "markdown",
      "metadata": {
        "id": "bfdcnv_sXXa3"
      },
      "source": [
        "# Amostragem aleatória simples"
      ]
    },
    {
      "cell_type": "code",
      "metadata": {
        "id": "rglfBU-mWJow"
      },
      "source": [
        "def amostragem_aleatoria_simples(dataset, amostras):\n",
        "  return dataset.sample(n = amostras, random_state=1)"
      ],
      "execution_count": 8,
      "outputs": []
    },
    {
      "cell_type": "code",
      "metadata": {
        "colab": {
          "base_uri": "https://localhost:8080/",
          "height": 394
        },
        "id": "QZmXlQItXhf2",
        "outputId": "5be2bb01-2a8f-4b55-a949-036e6aa9ade2"
      },
      "source": [
        "df_amostra_aleatoria_simples = amostragem_aleatoria_simples(df, 399)\n",
        "df_amostra_aleatoria_simples.head()"
      ],
      "execution_count": 87,
      "outputs": [
        {
          "output_type": "execute_result",
          "data": {
            "text/html": [
              "<div>\n",
              "<style scoped>\n",
              "    .dataframe tbody tr th:only-of-type {\n",
              "        vertical-align: middle;\n",
              "    }\n",
              "\n",
              "    .dataframe tbody tr th {\n",
              "        vertical-align: top;\n",
              "    }\n",
              "\n",
              "    .dataframe thead th {\n",
              "        text-align: right;\n",
              "    }\n",
              "</style>\n",
              "<table border=\"1\" class=\"dataframe\">\n",
              "  <thead>\n",
              "    <tr style=\"text-align: right;\">\n",
              "      <th></th>\n",
              "      <th>Data</th>\n",
              "      <th>Data Cadastro</th>\n",
              "      <th>Sexo</th>\n",
              "      <th>Faixa Etária</th>\n",
              "      <th>RA</th>\n",
              "      <th>UF</th>\n",
              "      <th>Óbito</th>\n",
              "      <th>dataPrimeirosintomas</th>\n",
              "      <th>Idade</th>\n",
              "      <th>Pneumopatia</th>\n",
              "      <th>Nefropatia</th>\n",
              "      <th>Doença Hematológica</th>\n",
              "      <th>Distúrbios Metabólicos</th>\n",
              "      <th>Imunopressão</th>\n",
              "      <th>Obesidade</th>\n",
              "      <th>Outros</th>\n",
              "      <th>Cardiovasculopatia</th>\n",
              "    </tr>\n",
              "  </thead>\n",
              "  <tbody>\n",
              "    <tr>\n",
              "      <th>54354</th>\n",
              "      <td>30/06/2021</td>\n",
              "      <td>04/07/2020</td>\n",
              "      <td>Masculino</td>\n",
              "      <td>40 a 49 anos</td>\n",
              "      <td>Ceilândia</td>\n",
              "      <td>DISTRITO FEDERAL</td>\n",
              "      <td>Não</td>\n",
              "      <td>01/07/2020</td>\n",
              "      <td>46</td>\n",
              "      <td>NaN</td>\n",
              "      <td>NaN</td>\n",
              "      <td>NaN</td>\n",
              "      <td>NaN</td>\n",
              "      <td>NaN</td>\n",
              "      <td>NaN</td>\n",
              "      <td>NaN</td>\n",
              "      <td>NaN</td>\n",
              "    </tr>\n",
              "    <tr>\n",
              "      <th>146260</th>\n",
              "      <td>30/06/2021</td>\n",
              "      <td>22/08/2020</td>\n",
              "      <td>Feminino</td>\n",
              "      <td>&gt;= 60 anos</td>\n",
              "      <td>Planaltina</td>\n",
              "      <td>DISTRITO FEDERAL</td>\n",
              "      <td>Não</td>\n",
              "      <td>17/08/2020</td>\n",
              "      <td>60</td>\n",
              "      <td>NaN</td>\n",
              "      <td>NaN</td>\n",
              "      <td>NaN</td>\n",
              "      <td>NaN</td>\n",
              "      <td>NaN</td>\n",
              "      <td>NaN</td>\n",
              "      <td>NaN</td>\n",
              "      <td>NaN</td>\n",
              "    </tr>\n",
              "    <tr>\n",
              "      <th>126892</th>\n",
              "      <td>30/06/2021</td>\n",
              "      <td>12/08/2020</td>\n",
              "      <td>Feminino</td>\n",
              "      <td>30 a 39 anos</td>\n",
              "      <td>Sobradinho</td>\n",
              "      <td>DISTRITO FEDERAL</td>\n",
              "      <td>Não</td>\n",
              "      <td>06/08/2020</td>\n",
              "      <td>32</td>\n",
              "      <td>NaN</td>\n",
              "      <td>NaN</td>\n",
              "      <td>NaN</td>\n",
              "      <td>NaN</td>\n",
              "      <td>NaN</td>\n",
              "      <td>NaN</td>\n",
              "      <td>NaN</td>\n",
              "      <td>NaN</td>\n",
              "    </tr>\n",
              "    <tr>\n",
              "      <th>78365</th>\n",
              "      <td>30/06/2021</td>\n",
              "      <td>17/07/2020</td>\n",
              "      <td>Feminino</td>\n",
              "      <td>50 a 59 anos</td>\n",
              "      <td>Recanto das Emas</td>\n",
              "      <td>DISTRITO FEDERAL</td>\n",
              "      <td>Não</td>\n",
              "      <td>30/06/2020</td>\n",
              "      <td>52</td>\n",
              "      <td>Sim</td>\n",
              "      <td>NaN</td>\n",
              "      <td>NaN</td>\n",
              "      <td>Sim</td>\n",
              "      <td>NaN</td>\n",
              "      <td>NaN</td>\n",
              "      <td>NaN</td>\n",
              "      <td>Sim</td>\n",
              "    </tr>\n",
              "    <tr>\n",
              "      <th>78837</th>\n",
              "      <td>30/06/2021</td>\n",
              "      <td>18/07/2020</td>\n",
              "      <td>Feminino</td>\n",
              "      <td>40 a 49 anos</td>\n",
              "      <td>Guará</td>\n",
              "      <td>DISTRITO FEDERAL</td>\n",
              "      <td>Não</td>\n",
              "      <td>14/07/2020</td>\n",
              "      <td>44</td>\n",
              "      <td>NaN</td>\n",
              "      <td>NaN</td>\n",
              "      <td>NaN</td>\n",
              "      <td>NaN</td>\n",
              "      <td>NaN</td>\n",
              "      <td>NaN</td>\n",
              "      <td>NaN</td>\n",
              "      <td>NaN</td>\n",
              "    </tr>\n",
              "  </tbody>\n",
              "</table>\n",
              "</div>"
            ],
            "text/plain": [
              "              Data Data Cadastro       Sexo  ... Obesidade Outros Cardiovasculopatia\n",
              "54354   30/06/2021    04/07/2020  Masculino  ...       NaN    NaN                NaN\n",
              "146260  30/06/2021    22/08/2020   Feminino  ...       NaN    NaN                NaN\n",
              "126892  30/06/2021    12/08/2020   Feminino  ...       NaN    NaN                NaN\n",
              "78365   30/06/2021    17/07/2020   Feminino  ...       NaN    NaN                Sim\n",
              "78837   30/06/2021    18/07/2020   Feminino  ...       NaN    NaN                NaN\n",
              "\n",
              "[5 rows x 17 columns]"
            ]
          },
          "metadata": {
            "tags": []
          },
          "execution_count": 87
        }
      ]
    },
    {
      "cell_type": "code",
      "metadata": {
        "colab": {
          "base_uri": "https://localhost:8080/"
        },
        "id": "2s_1O8ziY8BO",
        "outputId": "ac5a9a7f-20f4-4188-eab6-ce663ba25193"
      },
      "source": [
        "df_amostra_aleatoria_simples.shape"
      ],
      "execution_count": 74,
      "outputs": [
        {
          "output_type": "execute_result",
          "data": {
            "text/plain": [
              "(399, 17)"
            ]
          },
          "metadata": {
            "tags": []
          },
          "execution_count": 74
        }
      ]
    },
    {
      "cell_type": "markdown",
      "metadata": {
        "id": "jreV5ztqYZG8"
      },
      "source": [
        "# Amostragem sistemática"
      ]
    },
    {
      "cell_type": "code",
      "metadata": {
        "id": "VCfBxdZmYgt7"
      },
      "source": [
        "def amostragem_sistematica(dataset, amostras):\n",
        "  intervalo = len(dataset) // amostras\n",
        "  random.seed(1)\n",
        "  inicio = random.randint(0, intervalo)\n",
        "  indices = np.arange(inicio, len(dataset), step = intervalo)\n",
        "  amostra_sistematica = dataset.iloc[indices]\n",
        "  return amostra_sistematica"
      ],
      "execution_count": 21,
      "outputs": []
    },
    {
      "cell_type": "code",
      "metadata": {
        "colab": {
          "base_uri": "https://localhost:8080/"
        },
        "id": "sfNORrXfYnT0",
        "outputId": "c8899362-a3fc-4101-ec9b-c66b7507530e"
      },
      "source": [
        "df_amostra_sistematica = amostragem_sistematica(df, 399)\n",
        "df_amostra_sistematica.shape"
      ],
      "execution_count": 88,
      "outputs": [
        {
          "output_type": "execute_result",
          "data": {
            "text/plain": [
              "(400, 17)"
            ]
          },
          "metadata": {
            "tags": []
          },
          "execution_count": 88
        }
      ]
    },
    {
      "cell_type": "markdown",
      "metadata": {
        "id": "zWPvWH3fZJKK"
      },
      "source": [
        "# Amostragem por grupos"
      ]
    },
    {
      "cell_type": "code",
      "metadata": {
        "colab": {
          "base_uri": "https://localhost:8080/"
        },
        "id": "TspnnKoeZFv-",
        "outputId": "030fd1b3-5fd1-49bf-af74-e9fcef1f4229"
      },
      "source": [
        "len(df)/1078.84962"
      ],
      "execution_count": 91,
      "outputs": [
        {
          "output_type": "execute_result",
          "data": {
            "text/plain": [
              "399.00000150159946"
            ]
          },
          "metadata": {
            "tags": []
          },
          "execution_count": 91
        }
      ]
    },
    {
      "cell_type": "code",
      "metadata": {
        "id": "FbHiWax-ZlfA"
      },
      "source": [
        "def amostragem_agrupamento(df, numero_grupos):\n",
        "  intervalo = len(df) / numero_grupos\n",
        "\n",
        "  grupos = []\n",
        "  id_grupo = 0\n",
        "  contagem = 0\n",
        "  for _ in df.iterrows():\n",
        "    grupos.append(id_grupo)\n",
        "    contagem += 1\n",
        "    if contagem > intervalo:\n",
        "      contagem = 0\n",
        "      id_grupo += 1\n",
        "\n",
        "  df['grupo'] = grupos\n",
        "  random.seed(1)\n",
        "  grupo_selecionado = random.randint(0, numero_grupos)\n",
        "  return df[df['grupo'] == grupo_selecionado]"
      ],
      "execution_count": 35,
      "outputs": []
    },
    {
      "cell_type": "code",
      "metadata": {
        "colab": {
          "base_uri": "https://localhost:8080/"
        },
        "id": "C0mcXfN3Zrrk",
        "outputId": "14d0d09d-ca1a-4629-ec06-8832e93ef31e"
      },
      "source": [
        "df_amostra_agrupamento = amostragem_agrupamento(df, 1078)\n",
        "df_amostra_agrupamento.shape, df_amostra_agrupamento['grupo'].value_counts()"
      ],
      "execution_count": 92,
      "outputs": [
        {
          "output_type": "execute_result",
          "data": {
            "text/plain": [
              "((400, 18), 275    400\n",
              " Name: grupo, dtype: int64)"
            ]
          },
          "metadata": {
            "tags": []
          },
          "execution_count": 92
        }
      ]
    },
    {
      "cell_type": "code",
      "metadata": {
        "colab": {
          "base_uri": "https://localhost:8080/",
          "height": 394
        },
        "id": "JyAW-o5HaI0S",
        "outputId": "01590a27-1b50-4d10-8214-fc6c7396dee9"
      },
      "source": [
        "df_amostra_agrupamento.head()"
      ],
      "execution_count": 93,
      "outputs": [
        {
          "output_type": "execute_result",
          "data": {
            "text/html": [
              "<div>\n",
              "<style scoped>\n",
              "    .dataframe tbody tr th:only-of-type {\n",
              "        vertical-align: middle;\n",
              "    }\n",
              "\n",
              "    .dataframe tbody tr th {\n",
              "        vertical-align: top;\n",
              "    }\n",
              "\n",
              "    .dataframe thead th {\n",
              "        text-align: right;\n",
              "    }\n",
              "</style>\n",
              "<table border=\"1\" class=\"dataframe\">\n",
              "  <thead>\n",
              "    <tr style=\"text-align: right;\">\n",
              "      <th></th>\n",
              "      <th>Data</th>\n",
              "      <th>Data Cadastro</th>\n",
              "      <th>Sexo</th>\n",
              "      <th>Faixa Etária</th>\n",
              "      <th>RA</th>\n",
              "      <th>UF</th>\n",
              "      <th>Óbito</th>\n",
              "      <th>dataPrimeirosintomas</th>\n",
              "      <th>Idade</th>\n",
              "      <th>Pneumopatia</th>\n",
              "      <th>Nefropatia</th>\n",
              "      <th>Doença Hematológica</th>\n",
              "      <th>Distúrbios Metabólicos</th>\n",
              "      <th>Imunopressão</th>\n",
              "      <th>Obesidade</th>\n",
              "      <th>Outros</th>\n",
              "      <th>Cardiovasculopatia</th>\n",
              "      <th>grupo</th>\n",
              "    </tr>\n",
              "  </thead>\n",
              "  <tbody>\n",
              "    <tr>\n",
              "      <th>110000</th>\n",
              "      <td>30/06/2021</td>\n",
              "      <td>03/08/2020</td>\n",
              "      <td>Feminino</td>\n",
              "      <td>&lt;= 19 anos</td>\n",
              "      <td>Vicente Pires</td>\n",
              "      <td>DISTRITO FEDERAL</td>\n",
              "      <td>Não</td>\n",
              "      <td>02/07/2020</td>\n",
              "      <td>1</td>\n",
              "      <td>NaN</td>\n",
              "      <td>NaN</td>\n",
              "      <td>NaN</td>\n",
              "      <td>NaN</td>\n",
              "      <td>NaN</td>\n",
              "      <td>NaN</td>\n",
              "      <td>NaN</td>\n",
              "      <td>NaN</td>\n",
              "      <td>275</td>\n",
              "    </tr>\n",
              "    <tr>\n",
              "      <th>110001</th>\n",
              "      <td>30/06/2021</td>\n",
              "      <td>03/08/2020</td>\n",
              "      <td>Feminino</td>\n",
              "      <td>30 a 39 anos</td>\n",
              "      <td>Gama</td>\n",
              "      <td>DISTRITO FEDERAL</td>\n",
              "      <td>Não</td>\n",
              "      <td>01/08/2020</td>\n",
              "      <td>37</td>\n",
              "      <td>NaN</td>\n",
              "      <td>NaN</td>\n",
              "      <td>NaN</td>\n",
              "      <td>NaN</td>\n",
              "      <td>NaN</td>\n",
              "      <td>NaN</td>\n",
              "      <td>NaN</td>\n",
              "      <td>NaN</td>\n",
              "      <td>275</td>\n",
              "    </tr>\n",
              "    <tr>\n",
              "      <th>110002</th>\n",
              "      <td>30/06/2021</td>\n",
              "      <td>03/08/2020</td>\n",
              "      <td>Feminino</td>\n",
              "      <td>40 a 49 anos</td>\n",
              "      <td>Taguatinga</td>\n",
              "      <td>DISTRITO FEDERAL</td>\n",
              "      <td>Não</td>\n",
              "      <td>07/06/2020</td>\n",
              "      <td>42</td>\n",
              "      <td>NaN</td>\n",
              "      <td>NaN</td>\n",
              "      <td>NaN</td>\n",
              "      <td>NaN</td>\n",
              "      <td>NaN</td>\n",
              "      <td>NaN</td>\n",
              "      <td>NaN</td>\n",
              "      <td>NaN</td>\n",
              "      <td>275</td>\n",
              "    </tr>\n",
              "    <tr>\n",
              "      <th>110003</th>\n",
              "      <td>30/06/2021</td>\n",
              "      <td>03/08/2020</td>\n",
              "      <td>Feminino</td>\n",
              "      <td>40 a 49 anos</td>\n",
              "      <td>Plano Piloto</td>\n",
              "      <td>DISTRITO FEDERAL</td>\n",
              "      <td>Não</td>\n",
              "      <td>31/07/2020</td>\n",
              "      <td>45</td>\n",
              "      <td>NaN</td>\n",
              "      <td>NaN</td>\n",
              "      <td>NaN</td>\n",
              "      <td>NaN</td>\n",
              "      <td>NaN</td>\n",
              "      <td>NaN</td>\n",
              "      <td>NaN</td>\n",
              "      <td>NaN</td>\n",
              "      <td>275</td>\n",
              "    </tr>\n",
              "    <tr>\n",
              "      <th>110004</th>\n",
              "      <td>30/06/2021</td>\n",
              "      <td>03/08/2020</td>\n",
              "      <td>Feminino</td>\n",
              "      <td>30 a 39 anos</td>\n",
              "      <td>Plano Piloto</td>\n",
              "      <td>DISTRITO FEDERAL</td>\n",
              "      <td>Não</td>\n",
              "      <td>01/08/2020</td>\n",
              "      <td>37</td>\n",
              "      <td>NaN</td>\n",
              "      <td>NaN</td>\n",
              "      <td>NaN</td>\n",
              "      <td>NaN</td>\n",
              "      <td>NaN</td>\n",
              "      <td>NaN</td>\n",
              "      <td>NaN</td>\n",
              "      <td>NaN</td>\n",
              "      <td>275</td>\n",
              "    </tr>\n",
              "  </tbody>\n",
              "</table>\n",
              "</div>"
            ],
            "text/plain": [
              "              Data Data Cadastro      Sexo  ... Outros Cardiovasculopatia grupo\n",
              "110000  30/06/2021    03/08/2020  Feminino  ...    NaN                NaN   275\n",
              "110001  30/06/2021    03/08/2020  Feminino  ...    NaN                NaN   275\n",
              "110002  30/06/2021    03/08/2020  Feminino  ...    NaN                NaN   275\n",
              "110003  30/06/2021    03/08/2020  Feminino  ...    NaN                NaN   275\n",
              "110004  30/06/2021    03/08/2020  Feminino  ...    NaN                NaN   275\n",
              "\n",
              "[5 rows x 18 columns]"
            ]
          },
          "metadata": {
            "tags": []
          },
          "execution_count": 93
        }
      ]
    },
    {
      "cell_type": "markdown",
      "metadata": {
        "id": "GCXmYUMwaOY0"
      },
      "source": [
        "# Amostra estratificada"
      ]
    },
    {
      "cell_type": "code",
      "metadata": {
        "id": "WmEUrEAVaQ2M"
      },
      "source": [
        "from sklearn.model_selection import StratifiedShuffleSplit"
      ],
      "execution_count": 94,
      "outputs": []
    },
    {
      "cell_type": "code",
      "metadata": {
        "colab": {
          "base_uri": "https://localhost:8080/"
        },
        "id": "v4BH_v2oaUnU",
        "outputId": "60349386-f9da-4999-88a1-ddf252a63780"
      },
      "source": [
        "b = df['Faixa Etária'].value_counts()\n",
        "print(b)"
      ],
      "execution_count": 95,
      "outputs": [
        {
          "output_type": "stream",
          "text": [
            "30 a 39 anos    106832\n",
            "40 a 49 anos     95878\n",
            "20 a 29 anos     72164\n",
            "50 a 59 anos     63423\n",
            ">= 60 anos       58849\n",
            "<= 19 anos       33315\n",
            "Name: Faixa Etária, dtype: int64\n"
          ],
          "name": "stdout"
        }
      ]
    },
    {
      "cell_type": "code",
      "metadata": {
        "colab": {
          "base_uri": "https://localhost:8080/"
        },
        "id": "oWrof-r2amct",
        "outputId": "0d8b884a-223f-4075-f2ed-d32465c1d1cd"
      },
      "source": [
        "for i in b:\n",
        "  print(i/len(df))"
      ],
      "execution_count": 73,
      "outputs": [
        {
          "output_type": "stream",
          "text": [
            "0.2481804391106279\n",
            "0.22273330220391627\n",
            "0.16764352635895005\n",
            "0.1473373894499153\n",
            "0.13671157201233097\n",
            "0.07739377086425948\n"
          ],
          "name": "stdout"
        }
      ]
    },
    {
      "cell_type": "code",
      "metadata": {
        "colab": {
          "base_uri": "https://localhost:8080/"
        },
        "id": "bwVwjGUPa6I3",
        "outputId": "5f47d3d3-b815-4315-a59a-778607f194b7"
      },
      "source": [
        "399/len(df)"
      ],
      "execution_count": 96,
      "outputs": [
        {
          "output_type": "execute_result",
          "data": {
            "text/plain": [
              "0.0009269132395269258"
            ]
          },
          "metadata": {
            "tags": []
          },
          "execution_count": 96
        }
      ]
    },
    {
      "cell_type": "code",
      "metadata": {
        "id": "S36uk3kAbERn"
      },
      "source": [
        "def amostragem_estratificada(df, percentual):\n",
        "  split = StratifiedShuffleSplit(test_size=percentual, random_state=1)\n",
        "  for _, y in split.split(df, df['Faixa Etária']):\n",
        "    df_y = df.iloc[y]\n",
        "  return df_y"
      ],
      "execution_count": 54,
      "outputs": []
    },
    {
      "cell_type": "code",
      "metadata": {
        "colab": {
          "base_uri": "https://localhost:8080/"
        },
        "id": "06RLm2YKbIFE",
        "outputId": "34f1042f-4255-4d4a-ac4c-e78fb65a50a7"
      },
      "source": [
        "df_amostra_estratificada = amostragem_estratificada(df, 0.0009269132395269258)\n",
        "df_amostra_estratificada.shape"
      ],
      "execution_count": 97,
      "outputs": [
        {
          "output_type": "execute_result",
          "data": {
            "text/plain": [
              "(399, 18)"
            ]
          },
          "metadata": {
            "tags": []
          },
          "execution_count": 97
        }
      ]
    },
    {
      "cell_type": "markdown",
      "metadata": {
        "id": "V4zf8ZLKeX-8"
      },
      "source": [
        "# Comparativo dos resultados"
      ]
    },
    {
      "cell_type": "code",
      "metadata": {
        "colab": {
          "base_uri": "https://localhost:8080/"
        },
        "id": "etIfttXqeXqP",
        "outputId": "8de04da0-66a5-459e-8513-bda0d2aeea79"
      },
      "source": [
        "df['Idade'].mean()"
      ],
      "execution_count": 98,
      "outputs": [
        {
          "output_type": "execute_result",
          "data": {
            "text/plain": [
              "41.060939318544534"
            ]
          },
          "metadata": {
            "tags": []
          },
          "execution_count": 98
        }
      ]
    },
    {
      "cell_type": "code",
      "metadata": {
        "colab": {
          "base_uri": "https://localhost:8080/"
        },
        "id": "eNxGMScSeetv",
        "outputId": "9040d02a-3233-46cb-f47c-f34d5b655059"
      },
      "source": [
        "df_amostra_aleatoria_simples['Idade'].mean()"
      ],
      "execution_count": 99,
      "outputs": [
        {
          "output_type": "execute_result",
          "data": {
            "text/plain": [
              "41.82706766917293"
            ]
          },
          "metadata": {
            "tags": []
          },
          "execution_count": 99
        }
      ]
    },
    {
      "cell_type": "code",
      "metadata": {
        "colab": {
          "base_uri": "https://localhost:8080/"
        },
        "id": "XSWtPPpReg_r",
        "outputId": "43cfbfec-f483-48b1-99b5-5a43f8a2d44b"
      },
      "source": [
        "df_amostra_sistematica['Idade'].mean()"
      ],
      "execution_count": 100,
      "outputs": [
        {
          "output_type": "execute_result",
          "data": {
            "text/plain": [
              "41.9725"
            ]
          },
          "metadata": {
            "tags": []
          },
          "execution_count": 100
        }
      ]
    },
    {
      "cell_type": "code",
      "metadata": {
        "colab": {
          "base_uri": "https://localhost:8080/"
        },
        "id": "JtN6Ucx2ekOu",
        "outputId": "b5e10833-4566-4ac1-f7be-0a272e41d59f"
      },
      "source": [
        "df_amostra_agrupamento['Idade'].mean()"
      ],
      "execution_count": 101,
      "outputs": [
        {
          "output_type": "execute_result",
          "data": {
            "text/plain": [
              "40.9325"
            ]
          },
          "metadata": {
            "tags": []
          },
          "execution_count": 101
        }
      ]
    },
    {
      "cell_type": "code",
      "metadata": {
        "colab": {
          "base_uri": "https://localhost:8080/"
        },
        "id": "9obJnQGGene5",
        "outputId": "f1b925d2-6ba0-431f-ecef-e30c1bea8204"
      },
      "source": [
        "df_amostra_estratificada['Idade'].mean()"
      ],
      "execution_count": 102,
      "outputs": [
        {
          "output_type": "execute_result",
          "data": {
            "text/plain": [
              "41.10526315789474"
            ]
          },
          "metadata": {
            "tags": []
          },
          "execution_count": 102
        }
      ]
    }
  ]
}